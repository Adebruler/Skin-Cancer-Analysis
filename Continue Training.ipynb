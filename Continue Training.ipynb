{
 "cells": [
  {
   "cell_type": "code",
   "execution_count": 1,
   "metadata": {},
   "outputs": [
    {
     "name": "stderr",
     "output_type": "stream",
     "text": [
      "C:\\Users\\OW93790\\AppData\\Local\\Continuum\\anaconda3\\lib\\site-packages\\h5py\\__init__.py:36: FutureWarning: Conversion of the second argument of issubdtype from `float` to `np.floating` is deprecated. In future, it will be treated as `np.float64 == np.dtype(float).type`.\n",
      "  from ._conv import register_converters as _register_converters\n",
      "Using TensorFlow backend.\n"
     ]
    }
   ],
   "source": [
    "from keras.models import Sequential\n",
    "from keras_preprocessing.image import ImageDataGenerator\n",
    "from keras.layers import Dense, Activation, Flatten, Dropout, BatchNormalization\n",
    "from keras.layers import Conv2D, MaxPooling2D\n",
    "from keras import regularizers, optimizers\n",
    "import pandas as pd\n",
    "import numpy as np"
   ]
  },
  {
   "cell_type": "code",
   "execution_count": 2,
   "metadata": {},
   "outputs": [
    {
     "data": {
      "text/html": [
       "<div>\n",
       "<style scoped>\n",
       "    .dataframe tbody tr th:only-of-type {\n",
       "        vertical-align: middle;\n",
       "    }\n",
       "\n",
       "    .dataframe tbody tr th {\n",
       "        vertical-align: top;\n",
       "    }\n",
       "\n",
       "    .dataframe thead th {\n",
       "        text-align: right;\n",
       "    }\n",
       "</style>\n",
       "<table border=\"1\" class=\"dataframe\">\n",
       "  <thead>\n",
       "    <tr style=\"text-align: right;\">\n",
       "      <th></th>\n",
       "      <th>lesion_id</th>\n",
       "      <th>image_id</th>\n",
       "      <th>dx</th>\n",
       "      <th>dx_type</th>\n",
       "      <th>age</th>\n",
       "      <th>sex</th>\n",
       "      <th>localization</th>\n",
       "    </tr>\n",
       "  </thead>\n",
       "  <tbody>\n",
       "    <tr>\n",
       "      <th>0</th>\n",
       "      <td>HAM_0006803</td>\n",
       "      <td>ISIC_0032400.jpg</td>\n",
       "      <td>mel</td>\n",
       "      <td>histo</td>\n",
       "      <td>60.0</td>\n",
       "      <td>female</td>\n",
       "      <td>abdomen</td>\n",
       "    </tr>\n",
       "    <tr>\n",
       "      <th>1</th>\n",
       "      <td>HAM_0004241</td>\n",
       "      <td>ISIC_0024616.jpg</td>\n",
       "      <td>nv</td>\n",
       "      <td>follow_up</td>\n",
       "      <td>35.0</td>\n",
       "      <td>male</td>\n",
       "      <td>lower extremity</td>\n",
       "    </tr>\n",
       "    <tr>\n",
       "      <th>2</th>\n",
       "      <td>HAM_0004132</td>\n",
       "      <td>ISIC_0025801.jpg</td>\n",
       "      <td>nv</td>\n",
       "      <td>follow_up</td>\n",
       "      <td>50.0</td>\n",
       "      <td>female</td>\n",
       "      <td>abdomen</td>\n",
       "    </tr>\n",
       "    <tr>\n",
       "      <th>3</th>\n",
       "      <td>HAM_0007343</td>\n",
       "      <td>ISIC_0032447.jpg</td>\n",
       "      <td>mel</td>\n",
       "      <td>histo</td>\n",
       "      <td>70.0</td>\n",
       "      <td>male</td>\n",
       "      <td>chest</td>\n",
       "    </tr>\n",
       "    <tr>\n",
       "      <th>4</th>\n",
       "      <td>HAM_0004458</td>\n",
       "      <td>ISIC_0033853.jpg</td>\n",
       "      <td>bkl</td>\n",
       "      <td>histo</td>\n",
       "      <td>80.0</td>\n",
       "      <td>male</td>\n",
       "      <td>back</td>\n",
       "    </tr>\n",
       "  </tbody>\n",
       "</table>\n",
       "</div>"
      ],
      "text/plain": [
       "     lesion_id          image_id   dx    dx_type   age     sex  \\\n",
       "0  HAM_0006803  ISIC_0032400.jpg  mel      histo  60.0  female   \n",
       "1  HAM_0004241  ISIC_0024616.jpg   nv  follow_up  35.0    male   \n",
       "2  HAM_0004132  ISIC_0025801.jpg   nv  follow_up  50.0  female   \n",
       "3  HAM_0007343  ISIC_0032447.jpg  mel      histo  70.0    male   \n",
       "4  HAM_0004458  ISIC_0033853.jpg  bkl      histo  80.0    male   \n",
       "\n",
       "      localization  \n",
       "0          abdomen  \n",
       "1  lower extremity  \n",
       "2          abdomen  \n",
       "3            chest  \n",
       "4             back  "
      ]
     },
     "execution_count": 2,
     "metadata": {},
     "output_type": "execute_result"
    }
   ],
   "source": [
    "# Read in DataFrame of stored images and types\n",
    "images_df=pd.read_csv(\"Data/HAM10000_metadata_shuffle_reduced.csv\")\n",
    "images_df.head()"
   ]
  },
  {
   "cell_type": "code",
   "execution_count": 3,
   "metadata": {},
   "outputs": [
    {
     "name": "stdout",
     "output_type": "stream",
     "text": [
      "Found 3648 images belonging to 7 classes.\n",
      "Found 912 images belonging to 7 classes.\n"
     ]
    }
   ],
   "source": [
    "# Generate the trainer from the images and types using Keras\n",
    "# Validation split chosen so that the datagens are not prime numbers and may be run in reasonable batches\n",
    "datagen=ImageDataGenerator(rescale=1./255,validation_split=0.20)\n",
    "\n",
    "# Reduce image size to reduce model storage size for gitlab\n",
    "train_generator=datagen.flow_from_dataframe(dataframe=images_df, directory=\"Images\\HAM10000_images\", x_col=\"image_id\", y_col=\"dx\", subset=\"training\", class_mode=\"categorical\", target_size=(200,200), seed=42, batch_size=32, shuffle=True)\n",
    "\n",
    "valid_generator=datagen.flow_from_dataframe(dataframe=images_df, directory=\"Images\\HAM10000_images\", x_col=\"image_id\", y_col=\"dx\", subset=\"validation\", class_mode=\"categorical\", target_size=(200,200), seed = 42, batch_size=32, shuffle=True)"
   ]
  },
  {
   "cell_type": "code",
   "execution_count": 4,
   "metadata": {},
   "outputs": [
    {
     "name": "stdout",
     "output_type": "stream",
     "text": [
      "Training classes: [0, 1, 2, 3, 4, 5, 6]\n",
      "Validation classes: [0, 1, 2, 3, 4, 5, 6]\n"
     ]
    }
   ],
   "source": [
    "# Confirm classes of training and validation\n",
    "print(f\"Training classes: {list(set(train_generator.classes))}\")\n",
    "print(f\"Validation classes: {list(set(valid_generator.classes))}\")\n",
    "# All classes are in both sets"
   ]
  },
  {
   "cell_type": "code",
   "execution_count": 5,
   "metadata": {},
   "outputs": [],
   "source": [
    " # Load the model\n",
    "from keras.models import load_model\n",
    "\n",
    "modelname = \"deep\"\n",
    "modelnumber = 23\n",
    "model = load_model(f\"models/{modelname}{modelnumber}.h5\")"
   ]
  },
  {
   "cell_type": "code",
   "execution_count": 6,
   "metadata": {},
   "outputs": [
    {
     "name": "stdout",
     "output_type": "stream",
     "text": [
      "Epoch 1/2\n",
      "114/114 [==============================] - 1092s 10s/step - loss: 0.9918 - acc: 0.6368 - val_loss: 0.8231 - val_acc: 0.7277\n",
      "Epoch 2/2\n",
      "114/114 [==============================] - 1091s 10s/step - loss: 0.9679 - acc: 0.6488 - val_loss: 0.8459 - val_acc: 0.7307\n"
     ]
    },
    {
     "data": {
      "text/plain": [
       "<keras.callbacks.History at 0x18ff38e37b8>"
      ]
     },
     "execution_count": 6,
     "metadata": {},
     "output_type": "execute_result"
    }
   ],
   "source": [
    "STEP_SIZE_TRAIN=train_generator.n//train_generator.batch_size\n",
    "STEP_SIZE_VALID=valid_generator.n//valid_generator.batch_size\n",
    "# STEP_SIZE_TEST=test_generator.n//test_generator.batch_size\n",
    "model.fit_generator(generator=train_generator,\n",
    "                    steps_per_epoch=STEP_SIZE_TRAIN,\n",
    "                    validation_data=valid_generator,\n",
    "                    validation_steps=STEP_SIZE_VALID,\n",
    "                    epochs=2\n",
    ")"
   ]
  },
  {
   "cell_type": "code",
   "execution_count": 7,
   "metadata": {},
   "outputs": [
    {
     "name": "stdout",
     "output_type": "stream",
     "text": [
      "Saved deep24.h5\n"
     ]
    }
   ],
   "source": [
    " # Save the model\n",
    "modelnumber += 1\n",
    "model.save(f\"models/{modelname}{modelnumber}.h5\")\n",
    "print(f\"Saved {modelname}{modelnumber}.h5\")"
   ]
  },
  {
   "cell_type": "code",
   "execution_count": 8,
   "metadata": {},
   "outputs": [
    {
     "name": "stdout",
     "output_type": "stream",
     "text": [
      "Epoch 1/2\n",
      "114/114 [==============================] - 1196s 10s/step - loss: 0.9732 - acc: 0.6453 - val_loss: 0.8652 - val_acc: 0.7023\n",
      "Epoch 2/2\n",
      "114/114 [==============================] - 1134s 10s/step - loss: 0.9299 - acc: 0.6582 - val_loss: 0.7983 - val_acc: 0.7261\n"
     ]
    },
    {
     "data": {
      "text/plain": [
       "<keras.callbacks.History at 0x18f84830e10>"
      ]
     },
     "execution_count": 8,
     "metadata": {},
     "output_type": "execute_result"
    }
   ],
   "source": [
    "# STEP_SIZE_TEST=test_generator.n//test_generator.batch_size\n",
    "model.fit_generator(generator=train_generator,\n",
    "                    steps_per_epoch=STEP_SIZE_TRAIN,\n",
    "                    validation_data=valid_generator,\n",
    "                    validation_steps=STEP_SIZE_VALID,\n",
    "                    epochs=2\n",
    ")"
   ]
  },
  {
   "cell_type": "code",
   "execution_count": 9,
   "metadata": {},
   "outputs": [
    {
     "name": "stdout",
     "output_type": "stream",
     "text": [
      "Saved deep25.h5\n"
     ]
    }
   ],
   "source": [
    " # Save the model\n",
    "modelnumber += 1\n",
    "model.save(f\"models/{modelname}{modelnumber}.h5\")\n",
    "print(f\"Saved {modelname}{modelnumber}.h5\")"
   ]
  },
  {
   "cell_type": "code",
   "execution_count": 10,
   "metadata": {},
   "outputs": [
    {
     "name": "stdout",
     "output_type": "stream",
     "text": [
      "Epoch 1/2\n",
      "114/114 [==============================] - 3387s 30s/step - loss: 0.9450 - acc: 0.6530 - val_loss: 0.8441 - val_acc: 0.7011\n",
      "Epoch 2/2\n",
      "114/114 [==============================] - 1054s 9s/step - loss: 0.9125 - acc: 0.6683 - val_loss: 0.8208 - val_acc: 0.7261\n"
     ]
    },
    {
     "data": {
      "text/plain": [
       "<keras.callbacks.History at 0x18f84868048>"
      ]
     },
     "execution_count": 10,
     "metadata": {},
     "output_type": "execute_result"
    }
   ],
   "source": [
    "# STEP_SIZE_TEST=test_generator.n//test_generator.batch_size\n",
    "model.fit_generator(generator=train_generator,\n",
    "                    steps_per_epoch=STEP_SIZE_TRAIN,\n",
    "                    validation_data=valid_generator,\n",
    "                    validation_steps=STEP_SIZE_VALID,\n",
    "                    epochs=2\n",
    ")"
   ]
  },
  {
   "cell_type": "code",
   "execution_count": 11,
   "metadata": {},
   "outputs": [
    {
     "name": "stdout",
     "output_type": "stream",
     "text": [
      "Saved deep26.h5\n"
     ]
    }
   ],
   "source": [
    " # Save the model\n",
    "modelnumber += 1\n",
    "model.save(f\"models/{modelname}{modelnumber}.h5\")\n",
    "print(f\"Saved {modelname}{modelnumber}.h5\")"
   ]
  },
  {
   "cell_type": "code",
   "execution_count": 12,
   "metadata": {},
   "outputs": [
    {
     "name": "stdout",
     "output_type": "stream",
     "text": [
      "Epoch 1/2\n",
      "114/114 [==============================] - 1029s 9s/step - loss: 0.9064 - acc: 0.6757 - val_loss: 0.8804 - val_acc: 0.6795\n",
      "Epoch 2/2\n",
      "114/114 [==============================] - 1026s 9s/step - loss: 0.8916 - acc: 0.6724 - val_loss: 0.8368 - val_acc: 0.7000\n"
     ]
    },
    {
     "data": {
      "text/plain": [
       "<keras.callbacks.History at 0x18f84866630>"
      ]
     },
     "execution_count": 12,
     "metadata": {},
     "output_type": "execute_result"
    }
   ],
   "source": [
    "# STEP_SIZE_TEST=test_generator.n//test_generator.batch_size\n",
    "model.fit_generator(generator=train_generator,\n",
    "                    steps_per_epoch=STEP_SIZE_TRAIN,\n",
    "                    validation_data=valid_generator,\n",
    "                    validation_steps=STEP_SIZE_VALID,\n",
    "                    epochs=2\n",
    ")"
   ]
  },
  {
   "cell_type": "code",
   "execution_count": 13,
   "metadata": {},
   "outputs": [
    {
     "name": "stdout",
     "output_type": "stream",
     "text": [
      "Saved deep27.h5\n"
     ]
    }
   ],
   "source": [
    " # Save the model\n",
    "modelnumber += 1\n",
    "model.save(f\"models/{modelname}{modelnumber}.h5\")\n",
    "print(f\"Saved {modelname}{modelnumber}.h5\")"
   ]
  },
  {
   "cell_type": "code",
   "execution_count": 14,
   "metadata": {},
   "outputs": [
    {
     "name": "stdout",
     "output_type": "stream",
     "text": [
      "Epoch 1/2\n",
      "114/114 [==============================] - 1021s 9s/step - loss: 0.8490 - acc: 0.6845 - val_loss: 0.7974 - val_acc: 0.7045\n",
      "Epoch 2/2\n",
      "114/114 [==============================] - 1017s 9s/step - loss: 0.8455 - acc: 0.6886 - val_loss: 0.7751 - val_acc: 0.7170\n"
     ]
    },
    {
     "data": {
      "text/plain": [
       "<keras.callbacks.History at 0x18ff3708a90>"
      ]
     },
     "execution_count": 14,
     "metadata": {},
     "output_type": "execute_result"
    }
   ],
   "source": [
    "# STEP_SIZE_TEST=test_generator.n//test_generator.batch_size\n",
    "model.fit_generator(generator=train_generator,\n",
    "                    steps_per_epoch=STEP_SIZE_TRAIN,\n",
    "                    validation_data=valid_generator,\n",
    "                    validation_steps=STEP_SIZE_VALID,\n",
    "                    epochs=2\n",
    ")"
   ]
  },
  {
   "cell_type": "code",
   "execution_count": 15,
   "metadata": {},
   "outputs": [
    {
     "name": "stdout",
     "output_type": "stream",
     "text": [
      "Saved deep28.h5\n"
     ]
    }
   ],
   "source": [
    " # Save the model\n",
    "modelnumber += 1\n",
    "model.save(f\"models/{modelname}{modelnumber}.h5\")\n",
    "print(f\"Saved {modelname}{modelnumber}.h5\")"
   ]
  },
  {
   "cell_type": "code",
   "execution_count": 16,
   "metadata": {
    "scrolled": true
   },
   "outputs": [
    {
     "name": "stdout",
     "output_type": "stream",
     "text": [
      "Epoch 1/2\n",
      "114/114 [==============================] - 1023s 9s/step - loss: 0.8275 - acc: 0.6990 - val_loss: 0.8026 - val_acc: 0.7284\n",
      "Epoch 2/2\n",
      "114/114 [==============================] - 1021s 9s/step - loss: 0.8139 - acc: 0.7039 - val_loss: 0.8302 - val_acc: 0.7057\n"
     ]
    },
    {
     "data": {
      "text/plain": [
       "<keras.callbacks.History at 0x18f84846320>"
      ]
     },
     "execution_count": 16,
     "metadata": {},
     "output_type": "execute_result"
    }
   ],
   "source": [
    "# STEP_SIZE_TEST=test_generator.n//test_generator.batch_size\n",
    "model.fit_generator(generator=train_generator,\n",
    "                    steps_per_epoch=STEP_SIZE_TRAIN,\n",
    "                    validation_data=valid_generator,\n",
    "                    validation_steps=STEP_SIZE_VALID,\n",
    "                    epochs=2\n",
    ")"
   ]
  },
  {
   "cell_type": "code",
   "execution_count": 17,
   "metadata": {},
   "outputs": [
    {
     "name": "stdout",
     "output_type": "stream",
     "text": [
      "Saved deep29.h5\n"
     ]
    }
   ],
   "source": [
    " # Save the model\n",
    "modelnumber += 1\n",
    "model.save(f\"models/{modelname}{modelnumber}.h5\")\n",
    "print(f\"Saved {modelname}{modelnumber}.h5\")"
   ]
  },
  {
   "cell_type": "code",
   "execution_count": 18,
   "metadata": {},
   "outputs": [
    {
     "name": "stdout",
     "output_type": "stream",
     "text": [
      "Epoch 1/2\n",
      "114/114 [==============================] - 1015s 9s/step - loss: 0.8206 - acc: 0.7009 - val_loss: 0.8454 - val_acc: 0.7216\n",
      "Epoch 2/2\n",
      "114/114 [==============================] - 1012s 9s/step - loss: 0.7983 - acc: 0.7127 - val_loss: 0.7466 - val_acc: 0.7330\n"
     ]
    },
    {
     "data": {
      "text/plain": [
       "<keras.callbacks.History at 0x18feca2c240>"
      ]
     },
     "execution_count": 18,
     "metadata": {},
     "output_type": "execute_result"
    }
   ],
   "source": [
    "# STEP_SIZE_TEST=test_generator.n//test_generator.batch_size\n",
    "model.fit_generator(generator=train_generator,\n",
    "                    steps_per_epoch=STEP_SIZE_TRAIN,\n",
    "                    validation_data=valid_generator,\n",
    "                    validation_steps=STEP_SIZE_VALID,\n",
    "                    epochs=2\n",
    ")"
   ]
  },
  {
   "cell_type": "code",
   "execution_count": 19,
   "metadata": {},
   "outputs": [
    {
     "name": "stdout",
     "output_type": "stream",
     "text": [
      "Saved deep30.h5\n"
     ]
    }
   ],
   "source": [
    " # Save the model\n",
    "modelnumber += 1\n",
    "model.save(f\"models/{modelname}{modelnumber}.h5\")\n",
    "print(f\"Saved {modelname}{modelnumber}.h5\")"
   ]
  },
  {
   "cell_type": "code",
   "execution_count": 20,
   "metadata": {
    "scrolled": false
   },
   "outputs": [
    {
     "name": "stdout",
     "output_type": "stream",
     "text": [
      "Epoch 1/2\n",
      "114/114 [==============================] - 1021s 9s/step - loss: 0.7858 - acc: 0.7198 - val_loss: 0.8215 - val_acc: 0.6977\n",
      "Epoch 2/2\n",
      "114/114 [==============================] - 1021s 9s/step - loss: 0.7480 - acc: 0.7344 - val_loss: 0.8504 - val_acc: 0.7034\n"
     ]
    },
    {
     "data": {
      "text/plain": [
       "<keras.callbacks.History at 0x18f8485b8d0>"
      ]
     },
     "execution_count": 20,
     "metadata": {},
     "output_type": "execute_result"
    }
   ],
   "source": [
    "# STEP_SIZE_TEST=test_generator.n//test_generator.batch_size\n",
    "model.fit_generator(generator=train_generator,\n",
    "                    steps_per_epoch=STEP_SIZE_TRAIN,\n",
    "                    validation_data=valid_generator,\n",
    "                    validation_steps=STEP_SIZE_VALID,\n",
    "                    epochs=2\n",
    ")"
   ]
  },
  {
   "cell_type": "code",
   "execution_count": 21,
   "metadata": {},
   "outputs": [
    {
     "name": "stdout",
     "output_type": "stream",
     "text": [
      "Saved deep31.h5\n"
     ]
    }
   ],
   "source": [
    " # Save the model\n",
    "modelnumber += 1\n",
    "model.save(f\"models/{modelname}{modelnumber}.h5\")\n",
    "print(f\"Saved {modelname}{modelnumber}.h5\")"
   ]
  },
  {
   "cell_type": "code",
   "execution_count": 22,
   "metadata": {},
   "outputs": [
    {
     "name": "stdout",
     "output_type": "stream",
     "text": [
      "Epoch 1/2\n",
      "114/114 [==============================] - 1015s 9s/step - loss: 0.7523 - acc: 0.7319 - val_loss: 0.8394 - val_acc: 0.7034\n",
      "Epoch 2/2\n",
      "114/114 [==============================] - 1016s 9s/step - loss: 0.7253 - acc: 0.7352 - val_loss: 0.8180 - val_acc: 0.7102\n"
     ]
    },
    {
     "data": {
      "text/plain": [
       "<keras.callbacks.History at 0x18ff3708908>"
      ]
     },
     "execution_count": 22,
     "metadata": {},
     "output_type": "execute_result"
    }
   ],
   "source": [
    "# STEP_SIZE_TEST=test_generator.n//test_generator.batch_size\n",
    "model.fit_generator(generator=train_generator,\n",
    "                    steps_per_epoch=STEP_SIZE_TRAIN,\n",
    "                    validation_data=valid_generator,\n",
    "                    validation_steps=STEP_SIZE_VALID,\n",
    "                    epochs=2\n",
    ")"
   ]
  },
  {
   "cell_type": "code",
   "execution_count": 23,
   "metadata": {},
   "outputs": [
    {
     "name": "stdout",
     "output_type": "stream",
     "text": [
      "Saved deep32.h5\n"
     ]
    }
   ],
   "source": [
    " # Save the model\n",
    "modelnumber += 1\n",
    "model.save(f\"models/{modelname}{modelnumber}.h5\")\n",
    "print(f\"Saved {modelname}{modelnumber}.h5\")"
   ]
  },
  {
   "cell_type": "code",
   "execution_count": 24,
   "metadata": {},
   "outputs": [
    {
     "name": "stdout",
     "output_type": "stream",
     "text": [
      "Epoch 1/2\n",
      "114/114 [==============================] - 1020s 9s/step - loss: 0.7204 - acc: 0.7303 - val_loss: 0.8779 - val_acc: 0.6955\n",
      "Epoch 2/2\n",
      "114/114 [==============================] - 1026s 9s/step - loss: 0.7067 - acc: 0.7407 - val_loss: 0.8602 - val_acc: 0.6966\n"
     ]
    },
    {
     "data": {
      "text/plain": [
       "<keras.callbacks.History at 0x18fec9a3a58>"
      ]
     },
     "execution_count": 24,
     "metadata": {},
     "output_type": "execute_result"
    }
   ],
   "source": [
    "# STEP_SIZE_TEST=test_generator.n//test_generator.batch_size\n",
    "model.fit_generator(generator=train_generator,\n",
    "                    steps_per_epoch=STEP_SIZE_TRAIN,\n",
    "                    validation_data=valid_generator,\n",
    "                    validation_steps=STEP_SIZE_VALID,\n",
    "                    epochs=2\n",
    ")"
   ]
  },
  {
   "cell_type": "code",
   "execution_count": 25,
   "metadata": {},
   "outputs": [
    {
     "name": "stdout",
     "output_type": "stream",
     "text": [
      "Saved deep33.h5\n"
     ]
    }
   ],
   "source": [
    " # Save the model\n",
    "modelnumber += 1\n",
    "model.save(f\"models/{modelname}{modelnumber}.h5\")\n",
    "print(f\"Saved {modelname}{modelnumber}.h5\")"
   ]
  },
  {
   "cell_type": "code",
   "execution_count": 26,
   "metadata": {},
   "outputs": [
    {
     "name": "stdout",
     "output_type": "stream",
     "text": [
      "Epoch 1/2\n",
      "114/114 [==============================] - 1020s 9s/step - loss: 0.6884 - acc: 0.7442 - val_loss: 0.8274 - val_acc: 0.7034\n",
      "Epoch 2/2\n",
      "114/114 [==============================] - 1012s 9s/step - loss: 0.6697 - acc: 0.7492 - val_loss: 0.9102 - val_acc: 0.6761\n"
     ]
    },
    {
     "data": {
      "text/plain": [
       "<keras.callbacks.History at 0x18f84848ba8>"
      ]
     },
     "execution_count": 26,
     "metadata": {},
     "output_type": "execute_result"
    }
   ],
   "source": [
    "# STEP_SIZE_TEST=test_generator.n//test_generator.batch_size\n",
    "model.fit_generator(generator=train_generator,\n",
    "                    steps_per_epoch=STEP_SIZE_TRAIN,\n",
    "                    validation_data=valid_generator,\n",
    "                    validation_steps=STEP_SIZE_VALID,\n",
    "                    epochs=2\n",
    ")"
   ]
  },
  {
   "cell_type": "code",
   "execution_count": 27,
   "metadata": {},
   "outputs": [
    {
     "name": "stdout",
     "output_type": "stream",
     "text": [
      "Saved deep34.h5\n"
     ]
    }
   ],
   "source": [
    " # Save the model\n",
    "modelnumber += 1\n",
    "model.save(f\"models/{modelname}{modelnumber}.h5\")\n",
    "print(f\"Saved {modelname}{modelnumber}.h5\")"
   ]
  },
  {
   "cell_type": "code",
   "execution_count": 28,
   "metadata": {},
   "outputs": [
    {
     "name": "stdout",
     "output_type": "stream",
     "text": [
      "Epoch 1/2\n",
      "114/114 [==============================] - 1034s 9s/step - loss: 0.6792 - acc: 0.7492 - val_loss: 0.8493 - val_acc: 0.7080\n",
      "Epoch 2/2\n",
      "114/114 [==============================] - 1016s 9s/step - loss: 0.6603 - acc: 0.7697 - val_loss: 0.7930 - val_acc: 0.7330\n"
     ]
    },
    {
     "data": {
      "text/plain": [
       "<keras.callbacks.History at 0x18f8483d4e0>"
      ]
     },
     "execution_count": 28,
     "metadata": {},
     "output_type": "execute_result"
    }
   ],
   "source": [
    "# STEP_SIZE_TEST=test_generator.n//test_generator.batch_size\n",
    "model.fit_generator(generator=train_generator,\n",
    "                    steps_per_epoch=STEP_SIZE_TRAIN,\n",
    "                    validation_data=valid_generator,\n",
    "                    validation_steps=STEP_SIZE_VALID,\n",
    "                    epochs=2\n",
    ")"
   ]
  },
  {
   "cell_type": "code",
   "execution_count": 29,
   "metadata": {},
   "outputs": [
    {
     "name": "stdout",
     "output_type": "stream",
     "text": [
      "Saved deep35.h5\n"
     ]
    }
   ],
   "source": [
    " # Save the model\n",
    "modelnumber += 1\n",
    "model.save(f\"models/{modelname}{modelnumber}.h5\")\n",
    "print(f\"Saved {modelname}{modelnumber}.h5\")"
   ]
  },
  {
   "cell_type": "code",
   "execution_count": 30,
   "metadata": {},
   "outputs": [
    {
     "name": "stdout",
     "output_type": "stream",
     "text": [
      "Epoch 1/2\n",
      "114/114 [==============================] - 1018s 9s/step - loss: 0.6160 - acc: 0.7747 - val_loss: 0.9436 - val_acc: 0.6852\n",
      "Epoch 2/2\n",
      "114/114 [==============================] - 1020s 9s/step - loss: 0.6334 - acc: 0.7706 - val_loss: 0.8807 - val_acc: 0.6932\n"
     ]
    },
    {
     "data": {
      "text/plain": [
       "<keras.callbacks.History at 0x18f86c69470>"
      ]
     },
     "execution_count": 30,
     "metadata": {},
     "output_type": "execute_result"
    }
   ],
   "source": [
    "# STEP_SIZE_TEST=test_generator.n//test_generator.batch_size\n",
    "model.fit_generator(generator=train_generator,\n",
    "                    steps_per_epoch=STEP_SIZE_TRAIN,\n",
    "                    validation_data=valid_generator,\n",
    "                    validation_steps=STEP_SIZE_VALID,\n",
    "                    epochs=2\n",
    ")"
   ]
  },
  {
   "cell_type": "code",
   "execution_count": 31,
   "metadata": {},
   "outputs": [
    {
     "name": "stdout",
     "output_type": "stream",
     "text": [
      "Saved deep36.h5\n"
     ]
    }
   ],
   "source": [
    " # Save the model\n",
    "modelnumber += 1\n",
    "model.save(f\"models/{modelname}{modelnumber}.h5\")\n",
    "print(f\"Saved {modelname}{modelnumber}.h5\")"
   ]
  },
  {
   "cell_type": "code",
   "execution_count": 32,
   "metadata": {},
   "outputs": [
    {
     "name": "stdout",
     "output_type": "stream",
     "text": [
      "Epoch 1/2\n",
      "114/114 [==============================] - 1041s 9s/step - loss: 0.5980 - acc: 0.7843 - val_loss: 0.8977 - val_acc: 0.6932\n",
      "Epoch 2/2\n",
      "114/114 [==============================] - 1017s 9s/step - loss: 0.5731 - acc: 0.7887 - val_loss: 0.9084 - val_acc: 0.6975\n"
     ]
    },
    {
     "data": {
      "text/plain": [
       "<keras.callbacks.History at 0x18f8485d240>"
      ]
     },
     "execution_count": 32,
     "metadata": {},
     "output_type": "execute_result"
    }
   ],
   "source": [
    "# STEP_SIZE_TEST=test_generator.n//test_generator.batch_size\n",
    "model.fit_generator(generator=train_generator,\n",
    "                    steps_per_epoch=STEP_SIZE_TRAIN,\n",
    "                    validation_data=valid_generator,\n",
    "                    validation_steps=STEP_SIZE_VALID,\n",
    "                    epochs=2\n",
    ")"
   ]
  },
  {
   "cell_type": "code",
   "execution_count": 33,
   "metadata": {},
   "outputs": [
    {
     "name": "stdout",
     "output_type": "stream",
     "text": [
      "Saved deep37.h5\n"
     ]
    }
   ],
   "source": [
    " # Save the model\n",
    "modelnumber += 1\n",
    "model.save(f\"models/{modelname}{modelnumber}.h5\")\n",
    "print(f\"Saved {modelname}{modelnumber}.h5\")"
   ]
  },
  {
   "cell_type": "code",
   "execution_count": 34,
   "metadata": {},
   "outputs": [
    {
     "name": "stdout",
     "output_type": "stream",
     "text": [
      "Epoch 1/2\n",
      "114/114 [==============================] - 1019s 9s/step - loss: 0.5822 - acc: 0.7952 - val_loss: 0.8557 - val_acc: 0.7136\n",
      "Epoch 2/2\n",
      "114/114 [==============================] - 1024s 9s/step - loss: 0.5683 - acc: 0.7939 - val_loss: 0.9479 - val_acc: 0.6636\n"
     ]
    },
    {
     "data": {
      "text/plain": [
       "<keras.callbacks.History at 0x18f8484bc18>"
      ]
     },
     "execution_count": 34,
     "metadata": {},
     "output_type": "execute_result"
    }
   ],
   "source": [
    "# STEP_SIZE_TEST=test_generator.n//test_generator.batch_size\n",
    "model.fit_generator(generator=train_generator,\n",
    "                    steps_per_epoch=STEP_SIZE_TRAIN,\n",
    "                    validation_data=valid_generator,\n",
    "                    validation_steps=STEP_SIZE_VALID,\n",
    "                    epochs=2\n",
    ")"
   ]
  },
  {
   "cell_type": "code",
   "execution_count": 35,
   "metadata": {},
   "outputs": [
    {
     "name": "stdout",
     "output_type": "stream",
     "text": [
      "Saved deep38.h5\n"
     ]
    }
   ],
   "source": [
    " # Save the model\n",
    "modelnumber += 1\n",
    "model.save(f\"models/{modelname}{modelnumber}.h5\")\n",
    "print(f\"Saved {modelname}{modelnumber}.h5\")"
   ]
  },
  {
   "cell_type": "code",
   "execution_count": 36,
   "metadata": {},
   "outputs": [
    {
     "name": "stdout",
     "output_type": "stream",
     "text": [
      "Epoch 1/2\n",
      "114/114 [==============================] - 1023s 9s/step - loss: 0.5643 - acc: 0.7933 - val_loss: 0.9015 - val_acc: 0.6818\n",
      "Epoch 2/2\n",
      "114/114 [==============================] - 1018s 9s/step - loss: 0.5506 - acc: 0.7982 - val_loss: 0.9610 - val_acc: 0.6943\n"
     ]
    },
    {
     "data": {
      "text/plain": [
       "<keras.callbacks.History at 0x18f8483d240>"
      ]
     },
     "execution_count": 36,
     "metadata": {},
     "output_type": "execute_result"
    }
   ],
   "source": [
    "# STEP_SIZE_TEST=test_generator.n//test_generator.batch_size\n",
    "model.fit_generator(generator=train_generator,\n",
    "                    steps_per_epoch=STEP_SIZE_TRAIN,\n",
    "                    validation_data=valid_generator,\n",
    "                    validation_steps=STEP_SIZE_VALID,\n",
    "                    epochs=2\n",
    ")"
   ]
  },
  {
   "cell_type": "code",
   "execution_count": 37,
   "metadata": {},
   "outputs": [
    {
     "name": "stdout",
     "output_type": "stream",
     "text": [
      "Saved deep39.h5\n"
     ]
    }
   ],
   "source": [
    " # Save the model\n",
    "modelnumber += 1\n",
    "model.save(f\"models/{modelname}{modelnumber}.h5\")\n",
    "print(f\"Saved {modelname}{modelnumber}.h5\")"
   ]
  },
  {
   "cell_type": "code",
   "execution_count": 38,
   "metadata": {},
   "outputs": [
    {
     "name": "stdout",
     "output_type": "stream",
     "text": [
      "Epoch 1/2\n",
      "114/114 [==============================] - 1018s 9s/step - loss: 0.5362 - acc: 0.8111 - val_loss: 0.8908 - val_acc: 0.7080\n",
      "Epoch 2/2\n",
      "114/114 [==============================] - 1014s 9s/step - loss: 0.5174 - acc: 0.8155 - val_loss: 0.9277 - val_acc: 0.6966\n"
     ]
    },
    {
     "data": {
      "text/plain": [
       "<keras.callbacks.History at 0x18f8484bba8>"
      ]
     },
     "execution_count": 38,
     "metadata": {},
     "output_type": "execute_result"
    }
   ],
   "source": [
    "# STEP_SIZE_TEST=test_generator.n//test_generator.batch_size\n",
    "model.fit_generator(generator=train_generator,\n",
    "                    steps_per_epoch=STEP_SIZE_TRAIN,\n",
    "                    validation_data=valid_generator,\n",
    "                    validation_steps=STEP_SIZE_VALID,\n",
    "                    epochs=2\n",
    ")"
   ]
  },
  {
   "cell_type": "code",
   "execution_count": 39,
   "metadata": {},
   "outputs": [
    {
     "name": "stdout",
     "output_type": "stream",
     "text": [
      "Saved deep40.h5\n"
     ]
    }
   ],
   "source": [
    " # Save the model\n",
    "modelnumber += 1\n",
    "model.save(f\"models/{modelname}{modelnumber}.h5\")\n",
    "print(f\"Saved {modelname}{modelnumber}.h5\")"
   ]
  },
  {
   "cell_type": "code",
   "execution_count": 40,
   "metadata": {},
   "outputs": [
    {
     "name": "stdout",
     "output_type": "stream",
     "text": [
      "Epoch 1/2\n",
      "114/114 [==============================] - 1019s 9s/step - loss: 0.5098 - acc: 0.8150 - val_loss: 0.9950 - val_acc: 0.6795\n",
      "Epoch 2/2\n",
      "114/114 [==============================] - 1013s 9s/step - loss: 0.5042 - acc: 0.8152 - val_loss: 0.8752 - val_acc: 0.7045\n"
     ]
    },
    {
     "data": {
      "text/plain": [
       "<keras.callbacks.History at 0x18f8485b400>"
      ]
     },
     "execution_count": 40,
     "metadata": {},
     "output_type": "execute_result"
    }
   ],
   "source": [
    "# STEP_SIZE_TEST=test_generator.n//test_generator.batch_size\n",
    "model.fit_generator(generator=train_generator,\n",
    "                    steps_per_epoch=STEP_SIZE_TRAIN,\n",
    "                    validation_data=valid_generator,\n",
    "                    validation_steps=STEP_SIZE_VALID,\n",
    "                    epochs=2\n",
    ")"
   ]
  },
  {
   "cell_type": "code",
   "execution_count": 41,
   "metadata": {},
   "outputs": [
    {
     "name": "stdout",
     "output_type": "stream",
     "text": [
      "Saved deep41.h5\n"
     ]
    }
   ],
   "source": [
    " # Save the model\n",
    "modelnumber += 1\n",
    "model.save(f\"models/{modelname}{modelnumber}.h5\")\n",
    "print(f\"Saved {modelname}{modelnumber}.h5\")"
   ]
  },
  {
   "cell_type": "code",
   "execution_count": 42,
   "metadata": {},
   "outputs": [
    {
     "name": "stdout",
     "output_type": "stream",
     "text": [
      "Epoch 1/2\n",
      "114/114 [==============================] - 1023s 9s/step - loss: 0.4817 - acc: 0.8265 - val_loss: 0.9152 - val_acc: 0.7057\n",
      "Epoch 2/2\n",
      "114/114 [==============================] - 1015s 9s/step - loss: 0.4943 - acc: 0.8191 - val_loss: 0.9440 - val_acc: 0.6818\n"
     ]
    },
    {
     "data": {
      "text/plain": [
       "<keras.callbacks.History at 0x18f8483d080>"
      ]
     },
     "execution_count": 42,
     "metadata": {},
     "output_type": "execute_result"
    }
   ],
   "source": [
    "# STEP_SIZE_TEST=test_generator.n//test_generator.batch_size\n",
    "model.fit_generator(generator=train_generator,\n",
    "                    steps_per_epoch=STEP_SIZE_TRAIN,\n",
    "                    validation_data=valid_generator,\n",
    "                    validation_steps=STEP_SIZE_VALID,\n",
    "                    epochs=2\n",
    ")"
   ]
  },
  {
   "cell_type": "code",
   "execution_count": 43,
   "metadata": {},
   "outputs": [
    {
     "name": "stdout",
     "output_type": "stream",
     "text": [
      "Saved deep42.h5\n"
     ]
    }
   ],
   "source": [
    " # Save the model\n",
    "modelnumber += 1\n",
    "model.save(f\"models/{modelname}{modelnumber}.h5\")\n",
    "print(f\"Saved {modelname}{modelnumber}.h5\")"
   ]
  },
  {
   "cell_type": "code",
   "execution_count": 44,
   "metadata": {},
   "outputs": [
    {
     "name": "stdout",
     "output_type": "stream",
     "text": [
      "Epoch 1/2\n",
      "114/114 [==============================] - 1014s 9s/step - loss: 0.4721 - acc: 0.8221 - val_loss: 0.9419 - val_acc: 0.6818\n",
      "Epoch 2/2\n",
      "114/114 [==============================] - 1018s 9s/step - loss: 0.4413 - acc: 0.8342 - val_loss: 1.0164 - val_acc: 0.6750\n"
     ]
    },
    {
     "data": {
      "text/plain": [
       "<keras.callbacks.History at 0x18f84848b38>"
      ]
     },
     "execution_count": 44,
     "metadata": {},
     "output_type": "execute_result"
    }
   ],
   "source": [
    "# STEP_SIZE_TEST=test_generator.n//test_generator.batch_size\n",
    "model.fit_generator(generator=train_generator,\n",
    "                    steps_per_epoch=STEP_SIZE_TRAIN,\n",
    "                    validation_data=valid_generator,\n",
    "                    validation_steps=STEP_SIZE_VALID,\n",
    "                    epochs=2\n",
    ")"
   ]
  },
  {
   "cell_type": "code",
   "execution_count": 45,
   "metadata": {},
   "outputs": [
    {
     "name": "stdout",
     "output_type": "stream",
     "text": [
      "Saved deep43.h5\n"
     ]
    }
   ],
   "source": [
    " # Save the model\n",
    "modelnumber += 1\n",
    "model.save(f\"models/{modelname}{modelnumber}.h5\")\n",
    "print(f\"Saved {modelname}{modelnumber}.h5\")"
   ]
  },
  {
   "cell_type": "code",
   "execution_count": null,
   "metadata": {},
   "outputs": [],
   "source": []
  },
  {
   "cell_type": "code",
   "execution_count": null,
   "metadata": {},
   "outputs": [],
   "source": []
  }
 ],
 "metadata": {
  "kernelspec": {
   "display_name": "Python 3",
   "language": "python",
   "name": "python3"
  },
  "language_info": {
   "codemirror_mode": {
    "name": "ipython",
    "version": 3
   },
   "file_extension": ".py",
   "mimetype": "text/x-python",
   "name": "python",
   "nbconvert_exporter": "python",
   "pygments_lexer": "ipython3",
   "version": "3.6.5"
  }
 },
 "nbformat": 4,
 "nbformat_minor": 2
}
